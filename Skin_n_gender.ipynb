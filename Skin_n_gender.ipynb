{
  "nbformat": 4,
  "nbformat_minor": 0,
  "metadata": {
    "colab": {
      "name": "Skin_n_gender.ipynb",
      "provenance": [],
      "collapsed_sections": []
    },
    "kernelspec": {
      "name": "python3",
      "display_name": "Python 3"
    },
    "language_info": {
      "name": "python"
    },
    "accelerator": "GPU"
  },
  "cells": [
    {
      "cell_type": "markdown",
      "source": [
        "Gender Prediction from [Open CV](https://learnopencv.com/age-gender-classification-using-opencv-deep-learning-c-python/) based on the Adience dataset that was used in the gender shades paper"
      ],
      "metadata": {
        "id": "s0NC1q5efJd9"
      }
    },
    {
      "cell_type": "code",
      "source": [
        "import cv2"
      ],
      "metadata": {
        "id": "vc31KkQipqMA"
      },
      "execution_count": 62,
      "outputs": []
    },
    {
      "cell_type": "code",
      "source": [
        "def getFaceBox(net, frame, conf_threshold=0.7):\n",
        "    frameOpencvDnn = frame.copy()\n",
        "    frameHeight = frameOpencvDnn.shape[0]\n",
        "    frameWidth = frameOpencvDnn.shape[1]\n",
        "    blob = cv.dnn.blobFromImage(frameOpencvDnn, 1.0, (300, 300), [104, 117, 123], True, False)\n",
        "\n",
        "    net.setInput(blob)\n",
        "    detections = net.forward()\n",
        "    bboxes = []\n",
        "    for i in range(detections.shape[2]):\n",
        "        confidence = detections[0, 0, i, 2]\n",
        "        if confidence > conf_threshold:\n",
        "            x1 = int(detections[0, 0, i, 3] * frameWidth)\n",
        "            y1 = int(detections[0, 0, i, 4] * frameHeight)\n",
        "            x2 = int(detections[0, 0, i, 5] * frameWidth)\n",
        "            y2 = int(detections[0, 0, i, 6] * frameHeight)\n",
        "            bboxes.append([x1, y1, x2, y2])\n",
        "            cv.rectangle(frameOpencvDnn, (x1, y1), (x2, y2), (0, 255, 0), int(round(frameHeight/150)), 8)\n",
        "    return frameOpencvDnn, bboxes"
      ],
      "metadata": {
        "id": "L2zVvNo2ihYX"
      },
      "execution_count": 63,
      "outputs": []
    },
    {
      "cell_type": "code",
      "source": [
        "!wget http://dlib.net/files/shape_predictor_68_face_landmarks.dat.bz2\n",
        "!bzip2 -d shape_predictor_68_face_landmarks.dat.bz2\n",
        "!rm shape_predictor_68_face_landmarks.dat.bz2"
      ],
      "metadata": {
        "colab": {
          "base_uri": "https://localhost:8080/"
        },
        "id": "yZj4T9kBBt4p",
        "outputId": "d473216e-3950-486b-e738-dfd934be2324"
      },
      "execution_count": 64,
      "outputs": [
        {
          "output_type": "stream",
          "name": "stdout",
          "text": [
            "--2021-12-16 02:20:27--  http://dlib.net/files/shape_predictor_68_face_landmarks.dat.bz2\n",
            "Resolving dlib.net (dlib.net)... 107.180.26.78\n",
            "Connecting to dlib.net (dlib.net)|107.180.26.78|:80... connected.\n",
            "HTTP request sent, awaiting response... 200 OK\n",
            "Length: 64040097 (61M)\n",
            "Saving to: ‘shape_predictor_68_face_landmarks.dat.bz2’\n",
            "\n",
            "shape_predictor_68_ 100%[===================>]  61.07M  9.03MB/s    in 8.5s    \n",
            "\n",
            "2021-12-16 02:20:36 (7.15 MB/s) - ‘shape_predictor_68_face_landmarks.dat.bz2’ saved [64040097/64040097]\n",
            "\n",
            "bzip2: Output file shape_predictor_68_face_landmarks.dat already exists.\n"
          ]
        }
      ]
    },
    {
      "cell_type": "code",
      "source": [
        "!wget -O gender_deploy.prototxt https://github.com/spmallick/learnopencv/blob/master/AgeGender/gender_deploy.prototxt?raw=true"
      ],
      "metadata": {
        "id": "oeLQGo6MTAsD",
        "colab": {
          "base_uri": "https://localhost:8080/"
        },
        "outputId": "8d2ebd9b-4295-40d9-d169-fef1bf2829e0"
      },
      "execution_count": 65,
      "outputs": [
        {
          "output_type": "stream",
          "name": "stdout",
          "text": [
            "--2021-12-16 02:20:36--  https://github.com/spmallick/learnopencv/blob/master/AgeGender/gender_deploy.prototxt?raw=true\n",
            "Resolving github.com (github.com)... 140.82.114.4\n",
            "Connecting to github.com (github.com)|140.82.114.4|:443... connected.\n",
            "HTTP request sent, awaiting response... 302 Found\n",
            "Location: https://github.com/spmallick/learnopencv/raw/master/AgeGender/gender_deploy.prototxt [following]\n",
            "--2021-12-16 02:20:36--  https://github.com/spmallick/learnopencv/raw/master/AgeGender/gender_deploy.prototxt\n",
            "Reusing existing connection to github.com:443.\n",
            "HTTP request sent, awaiting response... 302 Found\n",
            "Location: https://raw.githubusercontent.com/spmallick/learnopencv/master/AgeGender/gender_deploy.prototxt [following]\n",
            "--2021-12-16 02:20:36--  https://raw.githubusercontent.com/spmallick/learnopencv/master/AgeGender/gender_deploy.prototxt\n",
            "Resolving raw.githubusercontent.com (raw.githubusercontent.com)... 185.199.108.133, 185.199.109.133, 185.199.110.133, ...\n",
            "Connecting to raw.githubusercontent.com (raw.githubusercontent.com)|185.199.108.133|:443... connected.\n",
            "HTTP request sent, awaiting response... 200 OK\n",
            "Length: 2309 (2.3K) [text/plain]\n",
            "Saving to: ‘gender_deploy.prototxt’\n",
            "\n",
            "gender_deploy.proto 100%[===================>]   2.25K  --.-KB/s    in 0s      \n",
            "\n",
            "2021-12-16 02:20:36 (27.3 MB/s) - ‘gender_deploy.prototxt’ saved [2309/2309]\n",
            "\n"
          ]
        }
      ]
    },
    {
      "cell_type": "code",
      "source": [
        "!wget -O gender_net.caffemodel https://github.com/eveningglow/age-and-gender-classification/blob/master/model/gender_net.caffemodel?raw=true"
      ],
      "metadata": {
        "id": "zfdM4Ho3TQLY",
        "colab": {
          "base_uri": "https://localhost:8080/"
        },
        "outputId": "99bfe303-c389-4a88-eb99-8acd2dd4f688"
      },
      "execution_count": 66,
      "outputs": [
        {
          "output_type": "stream",
          "name": "stdout",
          "text": [
            "--2021-12-16 02:20:36--  https://github.com/eveningglow/age-and-gender-classification/blob/master/model/gender_net.caffemodel?raw=true\n",
            "Resolving github.com (github.com)... 140.82.114.3\n",
            "Connecting to github.com (github.com)|140.82.114.3|:443... connected.\n",
            "HTTP request sent, awaiting response... 302 Found\n",
            "Location: https://github.com/eveningglow/age-and-gender-classification/raw/master/model/gender_net.caffemodel [following]\n",
            "--2021-12-16 02:20:37--  https://github.com/eveningglow/age-and-gender-classification/raw/master/model/gender_net.caffemodel\n",
            "Reusing existing connection to github.com:443.\n",
            "HTTP request sent, awaiting response... 302 Found\n",
            "Location: https://raw.githubusercontent.com/eveningglow/age-and-gender-classification/master/model/gender_net.caffemodel [following]\n",
            "--2021-12-16 02:20:37--  https://raw.githubusercontent.com/eveningglow/age-and-gender-classification/master/model/gender_net.caffemodel\n",
            "Resolving raw.githubusercontent.com (raw.githubusercontent.com)... 185.199.108.133, 185.199.110.133, 185.199.111.133, ...\n",
            "Connecting to raw.githubusercontent.com (raw.githubusercontent.com)|185.199.108.133|:443... connected.\n",
            "HTTP request sent, awaiting response... 200 OK\n",
            "Length: 45649168 (44M) [application/octet-stream]\n",
            "Saving to: ‘gender_net.caffemodel’\n",
            "\n",
            "gender_net.caffemod 100%[===================>]  43.53M   146MB/s    in 0.3s    \n",
            "\n",
            "2021-12-16 02:20:37 (146 MB/s) - ‘gender_net.caffemodel’ saved [45649168/45649168]\n",
            "\n"
          ]
        }
      ]
    },
    {
      "cell_type": "code",
      "source": [
        "!wget -O deploy_gender.prototxt https://github.com/spiorf/deepdream/blob/master/models/cnn_age_gender_models_and_data.0.0.2/deploy_gender.prototxt?raw=true"
      ],
      "metadata": {
        "id": "HF63Z3yaULWb",
        "colab": {
          "base_uri": "https://localhost:8080/"
        },
        "outputId": "f8d12ac6-3ad2-4002-9e66-9079667095e7"
      },
      "execution_count": 67,
      "outputs": [
        {
          "output_type": "stream",
          "name": "stdout",
          "text": [
            "--2021-12-16 02:20:37--  https://github.com/spiorf/deepdream/blob/master/models/cnn_age_gender_models_and_data.0.0.2/deploy_gender.prototxt?raw=true\n",
            "Resolving github.com (github.com)... 140.82.112.4\n",
            "Connecting to github.com (github.com)|140.82.112.4|:443... connected.\n",
            "HTTP request sent, awaiting response... 302 Found\n",
            "Location: https://github.com/spiorf/deepdream/raw/master/models/cnn_age_gender_models_and_data.0.0.2/deploy_gender.prototxt [following]\n",
            "--2021-12-16 02:20:37--  https://github.com/spiorf/deepdream/raw/master/models/cnn_age_gender_models_and_data.0.0.2/deploy_gender.prototxt\n",
            "Reusing existing connection to github.com:443.\n",
            "HTTP request sent, awaiting response... 302 Found\n",
            "Location: https://raw.githubusercontent.com/spiorf/deepdream/master/models/cnn_age_gender_models_and_data.0.0.2/deploy_gender.prototxt [following]\n",
            "--2021-12-16 02:20:37--  https://raw.githubusercontent.com/spiorf/deepdream/master/models/cnn_age_gender_models_and_data.0.0.2/deploy_gender.prototxt\n",
            "Resolving raw.githubusercontent.com (raw.githubusercontent.com)... 185.199.108.133, 185.199.109.133, 185.199.110.133, ...\n",
            "Connecting to raw.githubusercontent.com (raw.githubusercontent.com)|185.199.108.133|:443... connected.\n",
            "HTTP request sent, awaiting response... 200 OK\n",
            "Length: 2308 (2.3K) [text/plain]\n",
            "Saving to: ‘deploy_gender.prototxt’\n",
            "\n",
            "\rdeploy_gender.proto   0%[                    ]       0  --.-KB/s               \rdeploy_gender.proto 100%[===================>]   2.25K  --.-KB/s    in 0s      \n",
            "\n",
            "2021-12-16 02:20:37 (18.7 MB/s) - ‘deploy_gender.prototxt’ saved [2308/2308]\n",
            "\n"
          ]
        }
      ]
    },
    {
      "cell_type": "code",
      "execution_count": 68,
      "metadata": {
        "id": "-6hbwzBOfGde"
      },
      "outputs": [],
      "source": [
        "# Load gender prediction model\n",
        "# The gender model architecture\n",
        "# https://drive.google.com/open?id=1W_moLzMlGiELyPxWiYQJ9KFaXroQ_NFQ\n",
        "GENDER_MODEL = 'deploy_gender.prototxt'\n",
        "# The gender model pre-trained weights\n",
        "# https://drive.google.com/open?id=1AW3WduLk1haTVAxHOkVS_BEzel1WXQHP\n",
        "GENDER_PROTO = 'gender_net.caffemodel'\n",
        "MODEL_MEAN_VALUES = (78.4263377603, 87.7689143744, 114.895847746)\n",
        "gender_net = cv2.dnn.readNetFromCaffe(GENDER_MODEL, GENDER_PROTO)\n",
        "\n",
        "genderList = ['Male', 'Female']"
      ]
    },
    {
      "cell_type": "code",
      "source": [
        "i = cv2.imread(\"./origs/1-3.png\")"
      ],
      "metadata": {
        "id": "SzjTOyPdXnOl"
      },
      "execution_count": 69,
      "outputs": []
    },
    {
      "cell_type": "code",
      "source": [
        "def detect_gender(i):\n",
        "  blob = cv2.dnn.blobFromImage(i, 1, (256, 256), MODEL_MEAN_VALUES, swapRB=False)\n",
        "  gender_net.setInput(blob)\n",
        "  genderPreds = gender_net.forward()\n",
        "  gender = genderList[genderPreds[0].argmax()]\n",
        "  return gender"
      ],
      "metadata": {
        "id": "v0iAvhQ13LFL"
      },
      "execution_count": 70,
      "outputs": []
    },
    {
      "cell_type": "markdown",
      "source": [
        "gender pipeline"
      ],
      "metadata": {
        "id": "Gfme7p951Pib"
      }
    },
    {
      "cell_type": "code",
      "source": [
        "import pandas as pd\n",
        "import os\n",
        "\n",
        "test_file = \"./test4\"\n",
        "inner_files = os.listdir(test_file)\n",
        "for i_f in inner_files:\n",
        "  print(i_f)\n",
        "  if i_f == \"ipynb_checkpoints\":\n",
        "    continue\n",
        "  path = test_file+\"/\"+i_f\n",
        "  pics = os.listdir(path)\n",
        "  results = []\n",
        "  total = len(pics)\n",
        "  acc = 0\n",
        "  for pic in pics:\n",
        "    if pic == \".ipynb_checkpoints\":\n",
        "      continue\n",
        "    p_path = path+\"/\"+pic\n",
        "    img = cv2.imread(p_path)\n",
        "    output = detect_gender(img)\n",
        "    label = int(pic.split(\"-\")[0])\n",
        "    if label//2 == 0 and output == \"Female\":\n",
        "      acc += 1\n",
        "    elif label//2 == 1 and output == \"Male\":\n",
        "      acc += 1\n",
        "    results.append([pic,output])\n",
        "\n",
        "  print(\"results\",results)\n",
        "  print(\"accuracy:\", acc/total)"
      ],
      "metadata": {
        "id": "_YXKXTYb1RpD"
      },
      "execution_count": null,
      "outputs": []
    },
    {
      "cell_type": "markdown",
      "source": [
        "Skin Color Matching"
      ],
      "metadata": {
        "id": "K_8jC8kSfYzJ"
      }
    },
    {
      "cell_type": "code",
      "source": [
        "# face detector\n",
        "!wget https://github.com/opencv/opencv/blob/master/data/haarcascades/haarcascade_frontalface_default.xml"
      ],
      "metadata": {
        "id": "6rVY7c2j1WWe"
      },
      "execution_count": null,
      "outputs": []
    },
    {
      "cell_type": "code",
      "source": [
        "import cv2\n",
        "import dlib\n",
        "import numpy as np\n",
        "from google.colab.patches import cv2_imshow\n",
        "import pandas as pd \n",
        "from scipy.spatial import distance\n",
        "from PIL import Image"
      ],
      "metadata": {
        "id": "BYZg4ctB3tCp"
      },
      "execution_count": 72,
      "outputs": []
    },
    {
      "cell_type": "code",
      "source": [
        "classifier = face_cascade = cv2.CascadeClassifier(cv2.data.haarcascades + 'haarcascade_frontalface_default.xml')"
      ],
      "metadata": {
        "id": "uILAQ08E1ffl"
      },
      "execution_count": 73,
      "outputs": []
    },
    {
      "cell_type": "code",
      "source": [
        "def crop_face(i):\n",
        "  bboxes = classifier.detectMultiScale(i)\n",
        "  # making data frame \n",
        "  df = pd.DataFrame(bboxes)\n",
        "  print(df)\n",
        "  # Returns index of maximum weight\n",
        "  idx = df[3].idxmax()\n",
        "\n",
        "  x, y, width, height = bboxes[idx]\n",
        "  x2, y2 = x + width, y + height\n",
        "\n",
        "  cropped = i[y:y2,x:x2,:]\n",
        "  return cropped"
      ],
      "metadata": {
        "id": "NmCIWZ8G1heA"
      },
      "execution_count": 91,
      "outputs": []
    },
    {
      "cell_type": "code",
      "source": [
        "def color_avg(img):\n",
        "  return np.average(img, axis = (0,1))"
      ],
      "metadata": {
        "id": "-PvPvh-6A4yu"
      },
      "execution_count": 75,
      "outputs": []
    },
    {
      "cell_type": "code",
      "source": [
        "def get_dist(vec1, vec2):\n",
        "  dst = distance.euclidean(vec1, vec2)\n",
        "  return dst"
      ],
      "metadata": {
        "id": "YiZRXKZMBOdg"
      },
      "execution_count": 76,
      "outputs": []
    },
    {
      "cell_type": "code",
      "source": [
        "from functools import partial\n",
        "\n",
        "BLACK_THRESHOLD = 40\n",
        "WHITE_THRESHOLD = 80\n",
        "\n",
        "def my_skin_detect(src: np.ndarray, threshold: int) -> np.ndarray:\n",
        "  mask = np.logical_and.reduce((src[:, :, 2] < 150, src[:, : ,1] < threshold))\n",
        "  L = src[:,:,:3]\n",
        "  L[mask] = 0\n",
        "  img_new = cv2.merge([L])    \n",
        "  return img_new\n",
        "  \n",
        "my_skin_detect_black = partial(my_skin_detect, threshold=BLACK_THRESHOLD)\n",
        "my_skin_detect_white = partial(my_skin_detect, threshold=WHITE_THRESHOLD)\n",
        "\n",
        "\"\"\"\n",
        "def my_skin_detect_black(src):\n",
        " \n",
        "    dst = np.zeros(np.shape(src)[:-1], dtype= np.uint8)\n",
        "    mask = np.logical_and.reduce((src[:,:,2]<150, src[:,:,1]<40))\n",
        "\n",
        "    l1 = src[:,:,0]\n",
        "    l1[mask] = 0\n",
        "    l2 = src[:,:,1]\n",
        "    l2[mask] = 0\n",
        "    l3 = src[:,:,2]\n",
        "    l3[mask] = 0\n",
        "\n",
        "    img_new = cv2.merge([l1, l2, l3])\n",
        "    return img_new\n",
        "\n",
        "def my_skin_detect_white(src):\n",
        " \n",
        "    dst = np.zeros(np.shape(src)[:-1], dtype= np.uint8)\n",
        "    mask = np.logical_and.reduce((src[:,:,2]<150, src[:,:,1]<80))\n",
        "\n",
        "    l1 = src[:,:,0]\n",
        "    l1[mask] = 0\n",
        "    l2 = src[:,:,1]\n",
        "    l2[mask] = 0\n",
        "    l3 = src[:,:,2]\n",
        "    l3[mask] = 0\n",
        "\n",
        "    img_new = cv2.merge([l1, l2, l3])\n",
        "    return img_new\n",
        "\"\"\";"
      ],
      "metadata": {
        "id": "5Xl0oAtkfdRf"
      },
      "execution_count": 77,
      "outputs": []
    },
    {
      "cell_type": "code",
      "source": [
        "i = cv2.imread(\"0-2.jpg\")\n",
        "cropped = crop_face(i)\n",
        "img = my_skin_detect_white(cropped)\n",
        "cv2_imshow(img)\n",
        "vec1 = color_avg(img)\n",
        "print(\"Average color:\", vec1)\n",
        "\n",
        "i2 = cv2.imread(\"2-2.jpg\")\n",
        "cropped2 = crop_face(i2)\n",
        "img2 = my_skin_detect_black(cropped2)\n",
        "cv2_imshow(img2)\n",
        "vec2 = color_avg(img2)\n",
        "print(\"Average color:\", vec2)\n",
        "\n",
        "print(\"Distance between the two: \",get_dist(vec1, vec2))"
      ],
      "metadata": {
        "colab": {
          "base_uri": "https://localhost:8080/",
          "height": 391
        },
        "id": "HJZMGTsHkAOK",
        "outputId": "7bd5382f-cd35-4c92-f183-8ed6db1731d2"
      },
      "execution_count": 78,
      "outputs": [
        {
          "output_type": "display_data",
          "data": {
            "image/png": "[encoded data removed]",
            "text/plain": [
              "<PIL.Image.Image image mode=RGB size=158x158 at 0x7F3736DAC950>"
            ]
          },
          "metadata": {}
        },
        {
          "output_type": "stream",
          "name": "stdout",
          "text": [
            "Average color: [54.23065214 68.66511777 99.62866528]\n"
          ]
        },
        {
          "output_type": "display_data",
          "data": {
            "image/png": "[encoded data removed]",
            "text/plain": [
              "<PIL.Image.Image image mode=RGB size=164x164 at 0x7F3736DEEBD0>"
            ]
          },
          "metadata": {}
        },
        {
          "output_type": "stream",
          "name": "stdout",
          "text": [
            "Average color: [114.88912849 136.01829268 176.95597858]\n",
            "Distance between the two:  119.14451018772569\n"
          ]
        }
      ]
    },
    {
      "cell_type": "markdown",
      "source": [
        "Full Skin Pipeline:\n",
        "- Read in the image\n",
        "- Crop and segment the skin\n",
        "- Zoom in on cheek & get pixel average\n",
        "- Return distance from reference\n",
        "- Sum the distance as an error"
      ],
      "metadata": {
        "id": "JqilXcXeRsVb"
      }
    },
    {
      "cell_type": "code",
      "source": [
        "import os\n",
        "\n",
        "def skin_pipeline(test):\n",
        "  cust_path = test + \"/cust/\"\n",
        "  orig_path = test + \"/orig/\"\n",
        "  refs = prep_refs(test)\n",
        "\n",
        "  cust_files = os.listdir(cust_path)\n",
        "  orig_files = os.listdir(orig_path)\n",
        "\n",
        "  # hold the results somewhere\n",
        "  cust_results = {0:0, 1:0, 2:0, 3:0}\n",
        "  orig_results = {0:0, 1:0, 2:0, 3:0}\n",
        "\n",
        "  # go through the cutsom GAN images\n",
        "  for fil in cust_files:\n",
        "    path = cust_path + fil \n",
        "    img = cv2.imread(path)\n",
        "    skinned = img\n",
        "    cropped = crop_face(img)\n",
        "    label = int(fil.split(\"-\")[0])\n",
        "\n",
        "    if label < 2:\n",
        "      skinned = my_skin_detect_black(cropped)\n",
        "      avg_arr = zoom_in(skinned)\n",
        "      # get the difference between this image's \n",
        "      # skin and the reference skin\n",
        "      dist = get_dist(avg_arr, refs[label])\n",
        "      cust_results[label] = cust_results[label] + dist\n",
        "    else:\n",
        "      skinned = my_skin_detect_white(cropped)\n",
        "      avg_arr = zoom_in(skinned)\n",
        "      # get the difference between this image's \n",
        "      # skin and the reference skin\n",
        "      dist = get_dist(avg_arr, refs[label])\n",
        "      cust_results[label] = cust_results[label] + dist\n",
        "\n",
        "\n",
        "\n",
        "  # go through the original GAN images\n",
        "  for fil in orig_files:\n",
        "    path = orig_path + fil \n",
        "    img = cv2.imread(path)\n",
        "    skinned = img\n",
        "    cropped = crop_face(img)\n",
        "    label = int(fil.split(\"-\")[0])\n",
        "\n",
        "    if label < 2:\n",
        "      skinned = my_skin_detect_black(cropped)\n",
        "      avg_arr = zoom_in(skinned)\n",
        "      # get the difference between this image's \n",
        "      # skin and the reference skin\n",
        "      dist = get_dist(avg_arr, refs[label])\n",
        "      orig_results[label] = orig_results[label] + dist\n",
        "    else:\n",
        "      skinned = my_skin_detect_white(cropped)\n",
        "      avg_arr = zoom_in(skinned)\n",
        "      # get the difference between this image's \n",
        "      # skin and the reference skin\n",
        "      dist = get_dist(avg_arr, refs[label])\n",
        "      orig_results[label] = orig_results[label] + dist\n"
      ],
      "metadata": {
        "id": "_iK_SyUfShJI"
      },
      "execution_count": 97,
      "outputs": []
    },
    {
      "cell_type": "code",
      "source": [
        "def prep_refs(test):\n",
        "  ref_path = test+\"/refs/\"\n",
        "  holders = np.array([0,0,0,0], dtype=object)\n",
        "  refs = os.listdir(ref_path)\n",
        "  for fil in refs:\n",
        "    rpath = ref_path+fil \n",
        "    r_img = cv2.imread(rpath)\n",
        "    cropped = crop_face(r_img)\n",
        "    label = int(fil.split(\".\")[0])\n",
        "    print(\"label\", label)\n",
        "\n",
        "    if label < 2:\n",
        "      print(\"in here...\")\n",
        "      skinned = my_skin_detect_black(cropped)\n",
        "      avg_arr = zoom_in(skinned)\n",
        "      holders[label] = np.array(avg_arr)\n",
        "    else:\n",
        "      print(\"not here...\")\n",
        "      skinned = my_skin_detect_white(cropped)\n",
        "      avg_arr = zoom_in(skinned)\n",
        "      holders[label] = np.array(avg_arr)\n",
        "\n",
        "\n",
        "  return holders"
      ],
      "metadata": {
        "id": "vjjZw0U_W69F"
      },
      "execution_count": 95,
      "outputs": []
    },
    {
      "cell_type": "code",
      "source": [
        "# lists\n",
        "# The name convention: The GAN model and the domain of the reference\n",
        "orig_0 = []\n",
        "orig_1 = []\n",
        "orig_2 = []\n",
        "orig_3 = []\n",
        "\n",
        "cust_0 = []\n",
        "cust_1 = []\n",
        "cust_2 = []\n",
        "cust_3 = []"
      ],
      "metadata": {
        "id": "dil000wt9o3Z"
      },
      "execution_count": 88,
      "outputs": []
    },
    {
      "cell_type": "code",
      "source": [
        "def zoom_in(img):\n",
        "  detector = dlib.get_frontal_face_detector()\n",
        "  predictor = dlib.shape_predictor(\"shape_predictor_68_face_landmarks.dat\")\n",
        "  gray = cv2.cvtColor(img, cv2.COLOR_BGR2GRAY)\n",
        "  faces = detector(gray)\n",
        "\n",
        "  for face in faces:\n",
        "    x1 = face.left()\n",
        "    y1 = face.top()\n",
        "    x2 = face.right()\n",
        "    y2 = face.bottom()\n",
        "\n",
        "  annotations = []\n",
        "  landmarks = predictor(gray, face)\n",
        "  annotations.append([(landmarks.part(n).x, landmarks.part(n).y) for n in range(0,68)])\n",
        "  # get the crop coordinates\n",
        "  y2 = annotations[0][2][1]\n",
        "  y1 = annotations[0][1][1] \n",
        "  x2 = annotations[0][31][0]\n",
        "  x1 =  annotations[0][3][0] \n",
        "\n",
        "  # crop the different color channels\n",
        "  b_crop = img[:,:,0]\n",
        "  b_crop = b_crop[y1:y2, x1:x2]\n",
        "  g_crop = img[:,:,1]\n",
        "  g_crop = g_crop[y1:y2, x1:x2]\n",
        "  r_crop = img[:,:,2]\n",
        "  r_crop = r_crop[y1:y2, x1:x2]\n",
        "\n",
        "  # merge the color channels\n",
        "  patch = cv2.merge([b_crop, g_crop, r_crop])\n",
        "\n",
        "  cv2_imshow(patch)\n",
        "  avg_skin = color_avg(patch)\n",
        "\n",
        "  return avg_skin"
      ],
      "metadata": {
        "id": "accpC1iiCGf1"
      },
      "execution_count": 96,
      "outputs": []
    },
    {
      "cell_type": "code",
      "source": [
        "skin_pipeline(\"test1\")"
      ],
      "metadata": {
        "id": "7rqe7hDvcVwz"
      },
      "execution_count": null,
      "outputs": []
    },
    {
      "cell_type": "markdown",
      "source": [
        "Makeshift Pipeline"
      ],
      "metadata": {
        "id": "XIIhVwEIE_R_"
      }
    },
    {
      "cell_type": "code",
      "source": [
        "import numpy as np\n",
        "def makeshift(test):\n",
        "  cust_path = test + \"/cust/\"\n",
        "  orig_path = test + \"/orig/\"\n",
        "  ref_path = test + \"/refs/\"\n",
        "\n",
        "  cust_files = os.listdir(cust_path)\n",
        "  orig_files = os.listdir(orig_path)\n",
        "  ref_files = os.listdir(ref_path)\n",
        "\n",
        "  cust_counts = {0:0, 1:0, 2:0, 3:0}\n",
        "  orig_counts = {0:0, 1:0, 2:0, 3:0}\n",
        "  # find the averages of the reference images\n",
        "  ref_avg = {0:0, 1:0, 2:0, 3:0}\n",
        "  for ref_fil in ref_files:\n",
        "    if ref_fil == \".ipynb_checkpoints\":\n",
        "      continue\n",
        "    lab = int(ref_fil.split(\".\")[0])\n",
        "    path = ref_path+ref_fil\n",
        "    img = cv2.imread(path)\n",
        "    print(\"size\", img.shape)\n",
        "    res = color_avg(img)\n",
        "    ref_avg[lab] = res\n",
        "\n",
        "  for cus_fil in cust_files:\n",
        "    if cus_fil == \".ipynb_checkpoints\":\n",
        "      continue\n",
        "    cust_p = cust_path + cus_fil\n",
        "    img = cv2.imread(cust_p)\n",
        "    res_c = color_avg(img)\n",
        "    label_c = int(cus_fil.split(\"-\")[0])\n",
        "    cust_counts[label_c] = cust_counts[label_c] + 1\n",
        "    compare = ref_avg[label_c]\n",
        "    dist = get_dist(compare, res_c)\n",
        "    cust_results[label_c] += dist\n",
        "\n",
        "\n",
        "  for orig_fil in orig_files:\n",
        "    if orig_fil == \".ipynb_checkpoints\":\n",
        "      continue\n",
        "    orig_p = orig_path + cus_fil\n",
        "    img = cv2.imread(orig_p)\n",
        "    res_c = color_avg(img)\n",
        "    label_c = int(orig_fil.split(\"-\")[0])\n",
        "    orig_counts[label_c] = orig_counts[label_c] + 1\n",
        "    compare = ref_avg[label_c]\n",
        "    dist = get_dist(compare, res_c)\n",
        "    orig_results[label_c] += dist\n",
        "\n",
        "  for i in range(4):\n",
        "    cust_results[i] = cust_results[i]/cust_counts[i]\n",
        "    orig_results[i] = orig_results[i]/orig_counts[i]\n"
      ],
      "metadata": {
        "id": "TrV9PjY0FB6t"
      },
      "execution_count": 143,
      "outputs": []
    },
    {
      "cell_type": "code",
      "source": [
        "# hold the results somewhere\n",
        "cust_results = {0:0, 1:0, 2:0, 3:0}\n",
        "orig_results = {0:0, 1:0, 2:0, 3:0}"
      ],
      "metadata": {
        "id": "WJy2sE2dhx7E"
      },
      "execution_count": 144,
      "outputs": []
    },
    {
      "cell_type": "code",
      "source": [
        "makeshift(\"get\")"
      ],
      "metadata": {
        "id": "aJonzVbBPAHg"
      },
      "execution_count": null,
      "outputs": []
    },
    {
      "cell_type": "code",
      "source": [
        "cust_results"
      ],
      "metadata": {
        "colab": {
          "base_uri": "https://localhost:8080/"
        },
        "id": "nar1cvmGO_kx",
        "outputId": "823df53d-9ec1-4b54-d991-bd3be8eeb874"
      },
      "execution_count": 156,
      "outputs": [
        {
          "output_type": "execute_result",
          "data": {
            "text/plain": [
              "{0: 108.1478276316022,\n",
              " 1: 139.62057967461448,\n",
              " 2: 120.94219822955915,\n",
              " 3: 196.04461250909958}"
            ]
          },
          "metadata": {},
          "execution_count": 156
        }
      ]
    },
    {
      "cell_type": "code",
      "source": [
        "orig_results"
      ],
      "metadata": {
        "colab": {
          "base_uri": "https://localhost:8080/"
        },
        "id": "l7vJWscUQLGn",
        "outputId": "c0f69c14-31a6-42e3-e9a1-e207e8a0ab98"
      },
      "execution_count": 157,
      "outputs": [
        {
          "output_type": "execute_result",
          "data": {
            "text/plain": [
              "{0: 154.9959178337725,\n",
              " 1: 196.3070630555415,\n",
              " 2: 45.57556437365163,\n",
              " 3: 32.52030181519949}"
            ]
          },
          "metadata": {},
          "execution_count": 157
        }
      ]
    },
    {
      "cell_type": "code",
      "source": [
        "import statistics\n",
        "\n",
        "sum = "
      ],
      "metadata": {
        "id": "6zfc81vrQwhM"
      },
      "execution_count": null,
      "outputs": []
    }
  ]
}